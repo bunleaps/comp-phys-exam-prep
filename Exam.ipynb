{
 "cells": [
  {
   "cell_type": "code",
   "execution_count": 25,
   "id": "01e04ac7-1009-48b9-8b5a-df91e4adb450",
   "metadata": {},
   "outputs": [
    {
     "name": "stdout",
     "output_type": "stream",
     "text": [
      "01000010110010100000000000000000\n",
      "0100000001011001010000000000000000000000000000000000000000000000\n"
     ]
    }
   ],
   "source": [
    "import struct \n",
    "\n",
    "number = 101\n",
    "# single precision\n",
    "packed = struct.pack('>f', number)\n",
    "bits = ''.join(f'{byte:08b}' for byte in packed)\n",
    "print(bits)\n",
    "\n",
    "#double precision\n",
    "packed = struct.pack('>d', number)\n",
    "bits = ''.join(f'{byte:08b}' for byte in packed)\n",
    "print(bits)"
   ]
  },
  {
   "cell_type": "code",
   "execution_count": 10,
   "id": "66535bee-6e51-4414-b459-4d94b25f7077",
   "metadata": {},
   "outputs": [
    {
     "name": "stdout",
     "output_type": "stream",
     "text": [
      "[ 2. -1. -2.  1.]\n"
     ]
    }
   ],
   "source": [
    "import numpy as np\n",
    "\n",
    "A = np.array([[ 2,  1,  4,  1 ],\n",
    "           [ 3,  4, -1, -1 ],\n",
    "           [ 1, -4,  1,  5 ],\n",
    "           [ 2, -2,  1,  3 ]],float)\n",
    "v = np.array([ -4, 3, 9, 7 ],float)\n",
    "\n",
    "x = np.linalg.solve(A, v)\n",
    "print(x)"
   ]
  },
  {
   "cell_type": "code",
   "execution_count": 12,
   "id": "71132f47-e748-4b95-aae9-3b8fae4f5b46",
   "metadata": {},
   "outputs": [
    {
     "name": "stdout",
     "output_type": "stream",
     "text": [
      "[ 2. -1. -2.  1.]\n"
     ]
    }
   ],
   "source": [
    "import numpy as np\n",
    "\n",
    "def linsolve_gaussian(A, v):\n",
    "    N = len(v)\n",
    "    for r in range(N):\n",
    "        div = A[r,r]\n",
    "        if (div == 0.):\n",
    "            print(\"Diagonal element is zero! Cannot solve the system with simple Gaussian elimination\")\n",
    "            return None\n",
    "        A[r,:] /= div\n",
    "        v[r]   /= div\n",
    "        \n",
    "        # Now subtract this row from the lower rows\n",
    "        for r2 in range(r+1,N):\n",
    "            mult = A[r2,r]\n",
    "            A[r2,:] -= mult * A[r,:]\n",
    "            v[r2] -= mult * v[r]\n",
    "    x = np.empty(N,float)\n",
    "    for r in range(N-1,-1,-1):\n",
    "        x[r] = v[r]\n",
    "        for c in range(r+1,N):\n",
    "            x[r] -= A[r][c] * x[c]\n",
    "            \n",
    "    return x\n",
    "\n",
    "A = np.array([[ 2,  1,  4,  1 ],\n",
    "           [ 3,  4, -1, -1 ],\n",
    "           [ 1, -4,  1,  5 ],\n",
    "           [ 2, -2,  1,  3 ]],float)\n",
    "v = np.array([ -4, 3, 9, 7 ],float)\n",
    "\n",
    "x = linsolve_gaussian(A, v)\n",
    "print(x)"
   ]
  },
  {
   "cell_type": "code",
   "execution_count": 30,
   "id": "6fcf0ac0-b39e-4c44-83b8-ef293fabf355",
   "metadata": {},
   "outputs": [
    {
     "name": "stdout",
     "output_type": "stream",
     "text": [
      "1.0365526636481859\n"
     ]
    }
   ],
   "source": [
    "import math\n",
    "\n",
    "'''\n",
    "Use simpson rules to approx the integral\n",
    "x1 = 0. x2 = 2, n = 6\n",
    "f(x) = 1/(1+x^6)\n",
    "'''\n",
    "\n",
    "# Simson's Method\n",
    "def f(x):\n",
    "    return 1 / (1 + math.pow(x, 6))\n",
    "    \n",
    "def int_simson(a, b, N):\n",
    "  h = (b-a)/N  \n",
    "  f_a = f(a)\n",
    "  f_b = f(b)\n",
    "  S = f_a + f_b\n",
    "\n",
    "  # odd indices\n",
    "  S1 = 0  \n",
    "  for i in range(1, N, 2):\n",
    "    x_h = a + i*h\n",
    "    y_h = f(x_h)\n",
    "    S1 += y_h\n",
    "    \n",
    "  # even indices\n",
    "  S2 = 0  \n",
    "  for i in range(2, N, 2):\n",
    "    x_h = a + i*h\n",
    "    y_h = f(x_h)\n",
    "    S2 += y_h\n",
    "      \n",
    "  return h * (S + 4*S1 + 2*S2) / 3\n",
    "\n",
    "a = 0\n",
    "b = 2\n",
    "N = 6\n",
    "print(int_simson(a, b, N))"
   ]
  },
  {
   "cell_type": "code",
   "execution_count": 29,
   "id": "b699502a-6bbd-43ca-b292-cadda785a1b2",
   "metadata": {},
   "outputs": [
    {
     "name": "stdout",
     "output_type": "stream",
     "text": [
      "0.6970238095238095\n"
     ]
    }
   ],
   "source": [
    "'''\n",
    "Find Solution of an equation 1/x using Trapezoidal rule\n",
    "x1 = 1 and x2 = 2\n",
    "Step value (h) = 0.25\n",
    "'''\n",
    "\n",
    "# Trapezoidal Method\n",
    "def f(x):\n",
    "    return 1 / x\n",
    "    \n",
    "def int_trap(a, b, N):\n",
    "  h = (b-a)/N  \n",
    "  f_a = f(a)\n",
    "  f_b = f(b)\n",
    "  S = 0.5 * (f_a + f_b)\n",
    "  for i in range(1, N):\n",
    "    x_h = a + i*h\n",
    "    y_h = f(x_h)\n",
    "    S += y_h\n",
    "  return h * S\n",
    "\n",
    "a = 1\n",
    "b = 2\n",
    "N = 4\n",
    "print(int_trap(a, b, N))"
   ]
  },
  {
   "cell_type": "code",
   "execution_count": 57,
   "id": "cda20963-e381-4d40-814b-3af588cef212",
   "metadata": {},
   "outputs": [
    {
     "name": "stdout",
     "output_type": "stream",
     "text": [
      "1st Derivative:\n",
      "  True      = 42.500000\n",
      "  Forward   = 51.000000\n",
      "  Backward  = 35.000000\n",
      "  Central   = 42.625000\n",
      "\n",
      "2nd Derivative:\n",
      "  True      = 32.000000\n",
      "  Forward   = 38.000000\n",
      "  Backward  = 26.000000\n",
      "  Central   = 32.000000\n",
      "\n",
      "3rd Derivative:\n",
      "  True      = 12.000000\n",
      "  Forward   = -12.000000\n",
      "  Backward  = 12.000000\n",
      "  Central   = 12.000000\n"
     ]
    }
   ],
   "source": [
    "import math \n",
    "\n",
    "'''\n",
    "Forward difference, Backward difference, Central difference\n",
    "\n",
    "f(x)=2x^3 + x^2 - 4 and h=0.5, estimate f′(2.5)\n",
    "using Two point Forward difference, Backward difference, Central difference formula numerical differentiation\n",
    "Also find exact value of f'\n",
    "''' \n",
    "\n",
    "h = 0.5\n",
    "x = 2.5\n",
    "\n",
    "# function\n",
    "def f(x):\n",
    "    return 2 * x**3 + x**2 - 4\n",
    "    \n",
    "# True derivatives\n",
    "true_first = 6 * x**2 + 2 * x             # f'(x)\n",
    "true_second = 12 * x + 2                  # f''(x)\n",
    "true_third = 12                           # f'''(x)\n",
    "\n",
    "# --- First Derivative ---\n",
    "forward_1st = (f(x + h) - f(x)) / h\n",
    "backward_1st = (f(x) - f(x - h)) / h\n",
    "central_1st = (f(x + h/2) - f(x - h/2)) / h\n",
    "\n",
    "# --- Second Derivative ---\n",
    "forward_2nd = (f(x + 2*h) - 2*f(x + h) + f(x)) / h**2\n",
    "backward_2nd = (f(x) - 2*f(x - h) + f(x - 2*h)) / h**2\n",
    "central_2nd = (f(x + h) - 2*f(x) + f(x - h)) / h**2\n",
    "\n",
    "# --- Third Derivative ---\n",
    "forward_3rd = (-f(x + 3*h) + 3*f(x + 2*h) - 3*f(x + h) + f(x)) / h**3\n",
    "backward_3rd = (f(x) - 3*f(x - h) + 3*f(x - 2*h) - f(x - 3*h)) / h**3\n",
    "central_3rd = (f(x + 2*h) - 2*f(x + h) + 2*f(x - h) - f(x - 2*h)) / (2 * h**3)\n",
    "\n",
    "# Output\n",
    "print(\"1st Derivative:\")\n",
    "print(f\"  True      = {true_first:.6f}\")\n",
    "print(f\"  Forward   = {forward_1st:.6f}\")\n",
    "print(f\"  Backward  = {backward_1st:.6f}\")\n",
    "print(f\"  Central   = {central_1st:.6f}\")\n",
    "print()\n",
    "\n",
    "print(\"2nd Derivative:\")\n",
    "print(f\"  True      = {true_second:.6f}\")\n",
    "print(f\"  Forward   = {forward_2nd:.6f}\")\n",
    "print(f\"  Backward  = {backward_2nd:.6f}\")\n",
    "print(f\"  Central   = {central_2nd:.6f}\")\n",
    "print()\n",
    "\n",
    "print(\"3rd Derivative:\")\n",
    "print(f\"  True      = {true_third:.6f}\")\n",
    "print(f\"  Forward   = {forward_3rd:.6f}\")\n",
    "print(f\"  Backward  = {backward_3rd:.6f}\")\n",
    "print(f\"  Central   = {central_3rd:.6f}\")\n",
    "\n",
    "# print(\"\\nDebug f(x ± k*h) values:\")\n",
    "# print(f\"f(x+2h) = {f(x + 2*h)}\")\n",
    "# print(f\"f(x+h)  = {f(x + h)}\")\n",
    "# print(f\"f(x-h)  = {f(x - h)}\")\n",
    "# print(f\"f(x-2h) = {f(x - 2*h)}\")"
   ]
  },
  {
   "cell_type": "code",
   "execution_count": 46,
   "id": "9a02c40e-5a06-4395-aae0-ee37ce53bd55",
   "metadata": {},
   "outputs": [
    {
     "name": "stdout",
     "output_type": "stream",
     "text": [
      "K0 = -0.023148\n",
      "K1 = -0.022234\n",
      "K2 = -0.022245\n",
      "K3 = -0.021342\n",
      "y  = 0.953688\n"
     ]
    }
   ],
   "source": [
    "import sys\n",
    "import math\n",
    "\n",
    "'''\n",
    "Find y(0.2) for y′=(x-y)/2, x0=0,y0=1, with step length 0.1 using Runge-Kutta 4 method (1st order derivative)\n",
    "'''\n",
    "\n",
    "# Runge-Kutta Method\n",
    "def f(x,y):\n",
    "    return (x - y) / 2\n",
    "\n",
    "def RK4(x, y, h, N, X):\n",
    "  h = X / N\n",
    "  for i in range(0, N):\n",
    "    k0 = h * f(x, y)\n",
    "    k1 = h * f(x + h/2, y + k0/2)\n",
    "    k2 = h * f(x + h/2, y + k1/2)\n",
    "    k3 = h * f(x + h, y + k2)\n",
    "    y_pred = y + (k0 + 2*k1 + 2*k2 + k3)/6\n",
    "    x = x + h\n",
    "    y = y_pred\n",
    "\n",
    "  return y_pred, k0, k1, k2, k3\n",
    "\n",
    "x0 = 0\n",
    "y0 = 1\n",
    "h = 0.1\n",
    "N = 2\n",
    "a = 0\n",
    "b = 0.2 \n",
    "X = (b-a)/N\n",
    "\n",
    "y, k0, k1, k2, k3 = RK4(x0, y0, h, N, X)\n",
    "\n",
    "print(\"K0 = %.6f\" % k0)\n",
    "print(\"K1 = %.6f\" % k1)\n",
    "print(\"K2 = %.6f\" % k2)\n",
    "print(\"K3 = %.6f\" % k3)\n",
    "print(\"y  = %.6f\" % y)"
   ]
  },
  {
   "cell_type": "code",
   "execution_count": 41,
   "id": "f6253b3e-f25b-47fa-929c-15ed2779454b",
   "metadata": {},
   "outputs": [
    {
     "name": "stdout",
     "output_type": "stream",
     "text": [
      "x\t\ty (approx)\n",
      "0.0\t\t1.00000\n",
      "0.1\t\t0.95000\n",
      "0.2\t\t0.90750\n"
     ]
    }
   ],
   "source": [
    "'''\n",
    "Find y(0.2) for y′=(x-y)/2, y(0) = 1, with step length 0.1 using Euler method \n",
    "'''\n",
    "\n",
    "def f(x, y):\n",
    "    return (x - y) / 2\n",
    "\n",
    "# Initial condition\n",
    "x = 0\n",
    "y = 1\n",
    "a = 0\n",
    "b = 0.2\n",
    "h = 0.1\n",
    "N = (b-a)/h\n",
    "\n",
    "print(\"x\\t\\ty (approx)\")\n",
    "for i in range(steps + 1):\n",
    "    print(f\"{x:.1f}\\t\\t{y:.5f}\")\n",
    "    y = y + h * f(x, y)\n",
    "    x = x + h"
   ]
  },
  {
   "cell_type": "code",
   "execution_count": null,
   "id": "54b3fd9e-5bd9-446a-86b7-1e641723b4b2",
   "metadata": {},
   "outputs": [],
   "source": []
  }
 ],
 "metadata": {
  "kernelspec": {
   "display_name": "Python 3 (ipykernel)",
   "language": "python",
   "name": "python3"
  },
  "language_info": {
   "codemirror_mode": {
    "name": "ipython",
    "version": 3
   },
   "file_extension": ".py",
   "mimetype": "text/x-python",
   "name": "python",
   "nbconvert_exporter": "python",
   "pygments_lexer": "ipython3",
   "version": "3.13.3"
  }
 },
 "nbformat": 4,
 "nbformat_minor": 5
}
