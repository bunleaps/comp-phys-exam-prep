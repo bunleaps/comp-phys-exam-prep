{
 "cells": [
  {
   "cell_type": "markdown",
   "id": "d23801a2-859a-49b7-9d42-b47d432dc999",
   "metadata": {},
   "source": [
    "# Romberg Integration"
   ]
  },
  {
   "cell_type": "code",
   "execution_count": 1,
   "id": "56dfcd47-7897-4a94-87d9-5b057af6d01a",
   "metadata": {},
   "outputs": [
    {
     "name": "stdout",
     "output_type": "stream",
     "text": [
      "Run time:\t 0.0010650157928466797\n",
      "True area:\t 0.7853981633974483\n",
      "Approx. trap.:\t 0.7853921737691754\n",
      "Error (true): 5.989628272917713e-06 \tError (est): 2.6757847758167183e-09\n",
      "N = 640\n",
      "h = 0.0015625\n"
     ]
    }
   ],
   "source": [
    "import math, time\n",
    "\n",
    "# Globals\n",
    "a = -1\n",
    "b = 0\n",
    "N = 10\n",
    "h = (b-a)/N  \n",
    "eps = 1e-8\n",
    "\n",
    "# True integral\n",
    "#I_b = math.pow(b,5)/5 - 2*math.pow(b,3)/3 + b\n",
    "#I_a = math.pow(a,5)/5 - 2*math.pow(a,3)/3 + a\n",
    "#Area_true = I_b - I_a\n",
    "\n",
    "Area_true = 0.5*math.pi/2\n",
    "\n",
    "# function\n",
    "def f(x):\n",
    "    #return math.pow(x,4) - 2*math.pow(x,2) + 1\n",
    "    return math.sqrt(1 - x*x)\n",
    "\n",
    "# Trapezoidal Method\n",
    "def integrate(a, b, N):\n",
    "  h = (b-a)/N  \n",
    "  f_a = f(a)\n",
    "  f_b = f(b)\n",
    "  S = 0.5 * (f_a + f_b)\n",
    "  for i in range(1, N):\n",
    "    S += f(a + i*h)\n",
    "  return h * S\n",
    "\n",
    "# start time\n",
    "st = time.time()\n",
    "\n",
    "# Table of results\n",
    "R = [] \n",
    "\n",
    "# m = 1\n",
    "R_prev_m = integrate(a, b, N)\n",
    "R_cur_m = integrate(a, b, 2*N)\n",
    "# m = 2\n",
    "R_cur_m_plus_1 = R_cur_m + (R_cur_m - R_prev_m)/3\n",
    "\n",
    "# compute the initial error\n",
    "err = abs((R_cur_m - R_prev_m)/15)\n",
    "\n",
    "# add to the table\n",
    "R.append([R_prev_m])\n",
    "R.append([R_cur_m, R_cur_m_plus_1])\n",
    "\n",
    "k = 2\n",
    "N1 = 2*N\n",
    "while abs(err) > eps:  \n",
    "  k += 1\n",
    "  N2 = 2*N1\n",
    "  #print(k, N1, N2)\n",
    "\n",
    "  R_k_m = integrate(a, b, N2)\n",
    "  R.append([R_k_m])\n",
    "    \n",
    "  for m in range(1,k):\n",
    "    R_k_m_plus_1 = R[k-1][m-1] + (R[k-1][m-1] - R[k-2][m-1])/(math.pow(4,m)-1)\n",
    "    R[k-1].append(R_k_m_plus_1)\n",
    "  N1 = N2\n",
    "  err = abs((R[k-1][k-2] - R[k-2][k-2])/(math.pow(4,k-1)-1))\n",
    "    \n",
    "Area_tr = R[k-1][k-1]\n",
    "\n",
    "# end time\n",
    "en = time.time()\n",
    "\n",
    "print(\"Run time:\\t\", en-st)\n",
    "print(\"True area:\\t\", Area_true)\n",
    "print(\"Approx. trap.:\\t\", Area_tr)\n",
    "err_true = abs(Area_true - Area_tr)\n",
    "print(\"Error (true):\", err_true, \"\\tError (est):\", err)\n",
    "print(\"N =\", N2)\n",
    "print(\"h =\", (b-a)/N2)\n",
    "\n",
    "#for i in range(len(R)):\n",
    "#  print(R[i])"
   ]
  },
  {
   "cell_type": "markdown",
   "id": "f803dea0-fc4f-4b45-b862-54f5de26cff8",
   "metadata": {},
   "source": [
    "# Gaussian Quadrature"
   ]
  },
  {
   "cell_type": "code",
   "execution_count": 2,
   "id": "d4d0f8d0-c328-429e-8d19-b65da03ef7ac",
   "metadata": {},
   "outputs": [
    {
     "name": "stdout",
     "output_type": "stream",
     "text": [
      "True integral:\t 1.5707963267948966\n",
      "Appr. integral:\t 1.570796329191046\n",
      "Error: 2.3961495010382805e-09\n"
     ]
    }
   ],
   "source": [
    "import numpy as np\n",
    " \n",
    "def f(x):\n",
    "    #return x**4 - 2*x**2 + 1\n",
    "    return np.sqrt(1 - x*x)\n",
    " \n",
    "N = 700\n",
    "\n",
    "nodes, weights = np.polynomial.legendre.leggauss(N)\n",
    "\n",
    "Area_true = 0.5*math.pi\n",
    "Area_est = sum(weights * f(nodes))\n",
    " \n",
    "print(\"True integral:\\t\", Area_true)\n",
    "print(\"Appr. integral:\\t\", Area_est)\n",
    "print(\"Error:\", abs(Area_true-Area_est))"
   ]
  },
  {
   "cell_type": "markdown",
   "id": "405b24b2-7366-4824-b891-d1e47bc356a0",
   "metadata": {},
   "source": [
    "# Derivatives"
   ]
  },
  {
   "cell_type": "code",
   "execution_count": 3,
   "id": "7d48eed5-5375-4deb-83a8-20c7c1b6e582",
   "metadata": {},
   "outputs": [
    {
     "name": "stdout",
     "output_type": "stream",
     "text": [
      "True\t 0.5773502691896258\n",
      "Forward\t 0.5697029103461815\n",
      "Backwrd\t 0.5851002863323074\n",
      "Center\t 0.5773630997658596\n"
     ]
    }
   ],
   "source": [
    "import math \n",
    "\n",
    "h = 1e-2\n",
    "x = -0.5\n",
    "\n",
    "dt = -x/math.sqrt(1-x*x)\n",
    "\n",
    "# function\n",
    "def f(x):\n",
    "    return math.sqrt(1 - x*x)\n",
    "\n",
    "# Forward\n",
    "df = (f(x+h) - f(x))/h\n",
    "db = (f(x) - f(x-h))/h\n",
    "dc = (f(x+h/2) - f(x-h/2))/h\n",
    "\n",
    "print(\"True\\t\", dt)\n",
    "print(\"Forward\\t\", df)\n",
    "print(\"Backwrd\\t\", db)\n",
    "print(\"Center\\t\", dc)"
   ]
  },
  {
   "cell_type": "code",
   "execution_count": null,
   "id": "56021321-0503-4857-8874-139614c8a296",
   "metadata": {},
   "outputs": [],
   "source": []
  }
 ],
 "metadata": {
  "kernelspec": {
   "display_name": "Python 3 (ipykernel)",
   "language": "python",
   "name": "python3"
  },
  "language_info": {
   "codemirror_mode": {
    "name": "ipython",
    "version": 3
   },
   "file_extension": ".py",
   "mimetype": "text/x-python",
   "name": "python",
   "nbconvert_exporter": "python",
   "pygments_lexer": "ipython3",
   "version": "3.13.3"
  }
 },
 "nbformat": 4,
 "nbformat_minor": 5
}
