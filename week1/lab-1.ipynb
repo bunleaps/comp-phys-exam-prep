{
 "cells": [
  {
   "cell_type": "code",
   "execution_count": null,
   "id": "66baba8c-ad56-42c7-8130-202f9e9b8395",
   "metadata": {},
   "outputs": [],
   "source": [
    "list(range(5))"
   ]
  },
  {
   "cell_type": "code",
   "execution_count": null,
   "id": "0d055765-2b16-4402-b3e9-1c7174d6d22c",
   "metadata": {},
   "outputs": [],
   "source": [
    "def f(n):\n",
    "    m = n + 1"
   ]
  },
  {
   "cell_type": "code",
   "execution_count": null,
   "id": "bb7df509-d9f9-4ac8-9e61-86449e75f4d0",
   "metadata": {},
   "outputs": [],
   "source": [
    "f(10)"
   ]
  },
  {
   "cell_type": "code",
   "execution_count": null,
   "id": "e1744a1a-827b-46e5-b8b3-7724b111d5da",
   "metadata": {},
   "outputs": [],
   "source": [
    "print(f)"
   ]
  },
  {
   "cell_type": "code",
   "execution_count": null,
   "id": "fdc4e83e-ad56-4679-8625-6d8c3c19c39f",
   "metadata": {},
   "outputs": [],
   "source": [
    "T = \"Hello world\"\n",
    "A = T.split()\n",
    "print(A)\n",
    "\n",
    "S = \"\"\n",
    "for w in A:\n",
    "    # reverse w\n",
    "    w_rev = w[::-1]\n",
    "    print(w_rev)\n",
    "    \n",
    "    # Reconstruct text\n",
    "    S += w_rev + \" \" \n",
    "\n",
    "print(S)\n",
    "    "
   ]
  },
  {
   "cell_type": "code",
   "execution_count": null,
   "id": "bcd9deef-331d-4b85-92bd-1ef40697a4db",
   "metadata": {},
   "outputs": [],
   "source": [
    "# Ex. 3\n",
    "A = [2,1,4,6,5]\n",
    "\n",
    "while A:\n",
    "    a = A.pop(0)\n",
    "    print(a)\n",
    "    del a\n",
    "\n",
    "print(A)"
   ]
  },
  {
   "cell_type": "code",
   "execution_count": null,
   "id": "09f68305-4de4-452e-a465-3d283cad7d9d",
   "metadata": {},
   "outputs": [],
   "source": [
    "D = {'a' : 0, 'b': 2, 'c': 6}\n",
    "# D' = {0: 'a', 2: 'b', 6:'c'}\n",
    "\n",
    "H = {}\n",
    "for k in D:\n",
    "    H[D[k]] = k\n",
    "\n",
    "for k,v in D.items()\n",
    "   H[v] = k\n",
    "\n",
    "print(H)"
   ]
  },
  {
   "cell_type": "code",
   "execution_count": null,
   "id": "bc9fbc6b-3e91-4211-a358-087e991fc5af",
   "metadata": {},
   "outputs": [],
   "source": [
    "a = 2\n",
    "\n",
    "def f(b):\n",
    "    a =  a + 1\n",
    "    print(a)\n",
    "\n",
    "f(2)"
   ]
  },
  {
   "cell_type": "code",
   "execution_count": null,
   "id": "69b14779-03b2-45f6-85e4-d41868386fe3",
   "metadata": {},
   "outputs": [],
   "source": [
    "a = 1\n",
    "\n",
    "def f():\n",
    "    b = 2\n",
    "    def g(c):\n",
    "        print(a + b + c)\n",
    "\n",
    "    return g\n",
    "\n",
    "g = f()\n",
    "\n",
    "g(5)\n"
   ]
  },
  {
   "cell_type": "code",
   "execution_count": null,
   "id": "20fb6728-b5ba-4380-9a2e-a35967b9cbba",
   "metadata": {},
   "outputs": [],
   "source": []
  },
  {
   "cell_type": "code",
   "execution_count": null,
   "id": "57b6a4aa-d501-4774-8c4d-2e241a5dd868",
   "metadata": {},
   "outputs": [],
   "source": [
    "for k in range(10):\n",
    "  print(\"outer loop\", k)\n",
    "  for i in range(10):\n",
    "    if i % 2 == 0:\n",
    "        break\n",
    "        print(2*i)\n",
    "    else:\n",
    "        continue\n",
    "        print(i)\n",
    "print(\"done\")"
   ]
  },
  {
   "cell_type": "code",
   "execution_count": null,
   "id": "c4970836-021d-4587-a36d-9b395dfc95c8",
   "metadata": {},
   "outputs": [],
   "source": [
    "import copy \n",
    "\n",
    "L1 = [1,2,3,[0, 0 ,0 ],5]\n",
    "\n",
    "L2 = copy.deepcopy(list(L1))\n",
    "\n",
    "L2[0] = -1\n",
    "L2[3][0] = 1\n",
    "L2[3][1] = 1\n",
    "L2[3][2] = 1\n",
    "\n",
    "print(L1)\n",
    "print(L2)"
   ]
  },
  {
   "cell_type": "code",
   "execution_count": null,
   "id": "bf28e50f-1069-4e12-a65f-17d0afd14161",
   "metadata": {},
   "outputs": [],
   "source": [
    "list(range(10))"
   ]
  },
  {
   "cell_type": "code",
   "execution_count": null,
   "id": "24b7d804-6591-4cce-9402-df498083a109",
   "metadata": {},
   "outputs": [],
   "source": [
    "-5 in range(10)"
   ]
  },
  {
   "cell_type": "code",
   "execution_count": 2,
   "id": "cb9a341e-62c5-4fb8-b2d7-dc3d867544c5",
   "metadata": {},
   "outputs": [
    {
     "name": "stdout",
     "output_type": "stream",
     "text": [
      "------\n",
      "None\n",
      "------\n",
      "11\n",
      "12\n"
     ]
    }
   ],
   "source": [
    "def f(n):\n",
    "    print(\"------\")\n",
    "    if n %2 == 0:\n",
    "        return\n",
    "    else:\n",
    "        print(n)\n",
    "        return(n+1)\n",
    "    print(\"done\")\n",
    "\n",
    "print(f(10))\n",
    "print(f(11))"
   ]
  },
  {
   "cell_type": "code",
   "execution_count": 4,
   "id": "ee48a41c-e943-4774-9ace-1d7a2f24f750",
   "metadata": {},
   "outputs": [
    {
     "name": "stdout",
     "output_type": "stream",
     "text": [
      "['Hello', 'world']\n",
      "olleH dlrow \n"
     ]
    }
   ],
   "source": [
    "s = \"Hello world\"\n",
    "\n",
    "words = s.split()\n",
    "print(words)\n",
    "\n",
    "S = \"\"\n",
    "for w in words:\n",
    "    S += w[::-1] + \" \"\n",
    "\n",
    "print(S)\n",
    "\n"
   ]
  },
  {
   "cell_type": "code",
   "execution_count": 16,
   "id": "36ada6a8-1250-4bb4-9497-d8ae7db3f745",
   "metadata": {},
   "outputs": [
    {
     "name": "stdout",
     "output_type": "stream",
     "text": [
      "0\n",
      "x: 5\n",
      "1\n",
      "x: 0\n",
      "2\n",
      "x: 1\n",
      "3\n",
      "x: 3\n",
      "4\n",
      "x: 2\n",
      "5\n",
      "x: 0\n",
      "[]\n",
      "----\n"
     ]
    }
   ],
   "source": [
    "L = [0, 2, 3, 1, 0, 5]\n",
    "\n",
    "# loop\n",
    "for i in range(len(L)):\n",
    "    print(i)\n",
    "    x = L.pop()\n",
    "    print(\"x:\", x)\n",
    "    \n",
    "print(L)\n",
    "    \n",
    "print(\"----\")\n",
    "\n",
    "index = 0\n",
    "while index < len(L):\n",
    "    print(L[index])\n",
    "    index += 1\n",
    "\n"
   ]
  },
  {
   "cell_type": "code",
   "execution_count": 10,
   "id": "1776c9bd-772f-48be-83bb-eb1a0ace0048",
   "metadata": {},
   "outputs": [
    {
     "name": "stdout",
     "output_type": "stream",
     "text": [
      "[2, 3, 1, 5]\n"
     ]
    }
   ],
   "source": [
    "L = [0, 2, 3, 1, 5]\n",
    "\n",
    "del L[0]\n",
    "print(L)\n",
    "\n"
   ]
  },
  {
   "cell_type": "code",
   "execution_count": null,
   "id": "1bf2120a-909e-4a18-8b67-885557359ef0",
   "metadata": {},
   "outputs": [],
   "source": []
  },
  {
   "cell_type": "code",
   "execution_count": null,
   "id": "e7112f82-9cee-41d2-b0ae-ec7f7c2ee684",
   "metadata": {},
   "outputs": [],
   "source": []
  }
 ],
 "metadata": {
  "kernelspec": {
   "display_name": "Python 3 (ipykernel)",
   "language": "python",
   "name": "python3"
  },
  "language_info": {
   "codemirror_mode": {
    "name": "ipython",
    "version": 3
   },
   "file_extension": ".py",
   "mimetype": "text/x-python",
   "name": "python",
   "nbconvert_exporter": "python",
   "pygments_lexer": "ipython3",
   "version": "3.13.1"
  }
 },
 "nbformat": 4,
 "nbformat_minor": 5
}
