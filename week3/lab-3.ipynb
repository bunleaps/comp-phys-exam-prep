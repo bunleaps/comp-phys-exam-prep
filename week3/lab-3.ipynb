{
 "cells": [
  {
   "cell_type": "markdown",
   "id": "27b6e024-a02b-4784-9f16-21b778cf78bc",
   "metadata": {},
   "source": [
    "# Accuracy and Speed"
   ]
  },
  {
   "cell_type": "markdown",
   "id": "908cc2cd-e5ef-422d-b38c-112ce1dbcc48",
   "metadata": {},
   "source": [
    "## 1. Accuracy"
   ]
  },
  {
   "cell_type": "markdown",
   "id": "8f860e4b-3240-4921-a47c-12d8fe755061",
   "metadata": {},
   "source": [
    "#### Introduction"
   ]
  },
  {
   "cell_type": "code",
   "execution_count": 2,
   "id": "9c306c9d-5bc9-492a-81a1-1444841e38c7",
   "metadata": {},
   "outputs": [
    {
     "data": {
      "text/plain": [
       "True"
      ]
     },
     "execution_count": 2,
     "metadata": {},
     "output_type": "execute_result"
    }
   ],
   "source": [
    "# Example 1\n",
    "0.1 + 0.1 + 0.1 == 0.3\n",
    "0.25 + 0.25 == 0.5"
   ]
  },
  {
   "cell_type": "code",
   "execution_count": 4,
   "id": "dadce899-fc05-417b-a2be-2e994ca97f1e",
   "metadata": {},
   "outputs": [
    {
     "data": {
      "text/plain": [
       "True"
      ]
     },
     "execution_count": 4,
     "metadata": {},
     "output_type": "execute_result"
    }
   ],
   "source": [
    "\n",
    "round(round(0.1, 2) + round(0.1, 2) + round(0.1, 2),1) == round(0.3, 1)"
   ]
  },
  {
   "cell_type": "code",
   "execution_count": 5,
   "id": "972cfb9f-1498-416f-86d7-8e2a437bfac9",
   "metadata": {},
   "outputs": [
    {
     "data": {
      "text/plain": [
       "False"
      ]
     },
     "execution_count": 5,
     "metadata": {},
     "output_type": "execute_result"
    }
   ],
   "source": [
    "# Example 3\n",
    "round(6.175, 2) == 6.18"
   ]
  },
  {
   "cell_type": "code",
   "execution_count": 6,
   "id": "fe7ff821-95c4-458b-9c18-28c0834d5929",
   "metadata": {},
   "outputs": [
    {
     "name": "stdout",
     "output_type": "stream",
     "text": [
      "6\n",
      "6\n"
     ]
    }
   ],
   "source": [
    "# Example 4\n",
    "print(round(5.5))\n",
    "print(round(6.5))"
   ]
  },
  {
   "cell_type": "markdown",
   "id": "fa36cc28-296d-4d0a-9883-4b40f6867144",
   "metadata": {},
   "source": [
    "#### Binary Representation"
   ]
  },
  {
   "cell_type": "markdown",
   "id": "6861aa2c-6625-4960-a19b-3ba90a4a36b0",
   "metadata": {},
   "source": [
    "#### 1. Binary representation of integers"
   ]
  },
  {
   "cell_type": "markdown",
   "id": "2ca32b75-cb91-49c1-a4e2-7fe34d6355d9",
   "metadata": {},
   "source": [
    "#### 2. Binary representation of integers"
   ]
  },
  {
   "cell_type": "markdown",
   "id": "abb9cf2d-99e0-4d48-a67d-eac9e3831f0b",
   "metadata": {},
   "source": [
    "#### Single-precision floating-point format: binary32, float32\n",
    "- Sign bit: 1 bit\n",
    "- Exponent width: 8 bits\n",
    "- Significand precision: 24 bits (23 explicitly stored)\n",
    "\n",
    "\n",
    "<div>\n",
    "<img src=\"IEEE_754_Single.png\" width=\"500\"/>\n",
    "</div>\n",
    "\n",
    "<div>\n",
    "<img src=\"single_formula.png\" width=\"420\"/>\n",
    "</div>"
   ]
  },
  {
   "cell_type": "markdown",
   "id": "b317ae82-ce69-470f-8646-65da862d537e",
   "metadata": {},
   "source": [
    "#### Double-precision floating-point format: binary64, double\n",
    "- Sign bit: 1 bit\n",
    "- Exponent: 11 bits\n",
    "- Significand precision: 53 bits (52 explicitly stored)\n",
    "\n",
    "\n",
    "<div>\n",
    "<img src=\"IEEE_754_Double.png\" width=\"500\"/>\n",
    "</div>\n",
    "\n",
    "<div>\n",
    "<img src=\"double_formula.png\" width=\"300\"/>\n",
    "</div>"
   ]
  },
  {
   "cell_type": "code",
   "execution_count": 8,
   "id": "9971d91f-b493-45f2-9586-6f6e3cc003aa",
   "metadata": {},
   "outputs": [
    {
     "name": "stdout",
     "output_type": "stream",
     "text": [
      "01000010110010100000000000000000\n",
      "0100000001011001010000000000000000000000000000000000000000000000\n"
     ]
    }
   ],
   "source": [
    "import struct \n",
    "\n",
    "number = 101\n",
    "# single precision\n",
    "packed = struct.pack('>f', number)\n",
    "bits = ''.join(f'{byte:08b}' for byte in packed)\n",
    "print(bits)\n",
    "\n",
    "#double precision\n",
    "packed = struct.pack('>d', number)\n",
    "bits = ''.join(f'{byte:08b}' for byte in packed)\n",
    "print(bits)"
   ]
  },
  {
   "cell_type": "markdown",
   "id": "b6c27cde-c168-45eb-983e-6e645b799b8f",
   "metadata": {},
   "source": [
    "#### Maximum and minimun numbers"
   ]
  },
  {
   "cell_type": "code",
   "execution_count": 12,
   "id": "00b668af-94ec-4a1a-830f-e769343a609c",
   "metadata": {
    "scrolled": true
   },
   "outputs": [
    {
     "name": "stdout",
     "output_type": "stream",
     "text": [
      "inf\n",
      "-1e+308\n",
      "0.0\n",
      "OK\n"
     ]
    }
   ],
   "source": [
    "# Largest positive number\n",
    "x = 1e309\n",
    "print(x)\n",
    "\n",
    "# Largest negative number\n",
    "y = -1e308\n",
    "print(y)\n",
    "\n",
    "# Smallest number ~0\n",
    "z = 1e-324\n",
    "print(z)\n",
    "\n",
    "if -1 > y:\n",
    "  print(\"OK\")\n",
    "else:\n",
    "  print(\"Not OK\")"
   ]
  },
  {
   "cell_type": "markdown",
   "id": "af30515e-2634-41c1-9b13-910bb7b62e26",
   "metadata": {},
   "source": [
    "#### Decimal precision \n",
    "\n",
    "The 53-bit significand precision gives from 15 to 17 significant decimal digits precision:\n",
    "\n",
    "$2^{−53} ≈ 1.11 × 10^{−16}$"
   ]
  },
  {
   "cell_type": "code",
   "execution_count": 13,
   "id": "759401e3-05e8-46b7-a3b0-2466ef81d0a4",
   "metadata": {},
   "outputs": [
    {
     "name": "stdout",
     "output_type": "stream",
     "text": [
      "pi =\t 3.141592653589793\n",
      "e =\t 2.718281828459045\n",
      "sqrt(2)= 1.4142135623730951\n"
     ]
    }
   ],
   "source": [
    "import math\n",
    "\n",
    "# pi = 3.1415 9265 3589 7932 3846\n",
    "print(\"pi =\\t\", math.pi)\n",
    "\n",
    "# e = 2.7182 8182 8459 0452 3536\n",
    "print(\"e =\\t\", math.e)\n",
    "\n",
    "# sqrt(2) = 1.4142 1356 2373 0950 4880 \n",
    "print(\"sqrt(2)=\", math.sqrt(2))"
   ]
  },
  {
   "cell_type": "code",
   "execution_count": null,
   "id": "88820e9a-3db6-4125-9a5a-965e795caf7b",
   "metadata": {},
   "outputs": [],
   "source": [
    "import math\n",
    "# Example 1\n",
    "3.141592653589793 - math.pi == 0"
   ]
  },
  {
   "cell_type": "code",
   "execution_count": null,
   "id": "74df3e17-3ad5-45d1-943e-aed4bd4de7d8",
   "metadata": {},
   "outputs": [],
   "source": [
    "# Example 2\n",
    "(0.1 + 0.1 + 0.1) - 0.3 < 1e-17\n"
   ]
  },
  {
   "cell_type": "markdown",
   "id": "00492451-c7a5-4e42-9679-de29da09af82",
   "metadata": {},
   "source": [
    "### Speed"
   ]
  },
  {
   "cell_type": "code",
   "execution_count": null,
   "id": "2e1402f8-a148-4581-abe4-09b27824699d",
   "metadata": {},
   "outputs": [],
   "source": [
    "import random\n",
    "import numpy as np\n",
    "import time\n",
    "\n",
    "N = 100\n",
    "\n",
    "A = np.random.rand(N,N)\n",
    "B = np.random.rand(N,N)\n",
    "\n",
    "def maxmult(A,B):\n",
    "  C = np.zeros([N,N] ,float)\n",
    "  for i in range(N):\n",
    "    for j in range(N):\n",
    "      for k in range(N):  \n",
    "        C[i,j] += A[i,k]*B[k,j]\n",
    "  return C \n",
    "    \n",
    "st = time.time()\n",
    "C = maxmult(A,B)\n",
    "en = time.time()\n",
    "\n",
    "print(en-st)"
   ]
  },
  {
   "cell_type": "code",
   "execution_count": null,
   "id": "a20a6bae-935c-4970-9681-c1523c48794d",
   "metadata": {},
   "outputs": [],
   "source": [
    "import timeit\n",
    "\n",
    "N = 100\n",
    "\n",
    "setup = \"\"\"print('Start computation...')\"\"\"\n",
    "\n",
    "# stmt - main code in text format\n",
    "# setup - code that runs once before the main code\n",
    "# globals - namespace to use globals\n",
    "# number - number of time the main code is run\n",
    "timeit.timeit(stmt='\"-\".join(str(n) for n in range(N))', setup=setup, globals=globals(), number=1)"
   ]
  },
  {
   "cell_type": "code",
   "execution_count": null,
   "id": "e206741b-003a-4145-b6f8-51bb88dc99ed",
   "metadata": {},
   "outputs": [],
   "source": [
    "import timeit\n",
    "\n",
    "TEST_CODE = \"\"\"\n",
    "import random\n",
    "import numpy as np\n",
    "\n",
    "N = 100\n",
    "\n",
    "A = np.random.rand(N,N)\n",
    "B = np.random.rand(N,N)\n",
    "\n",
    "def maxmult(A,B):\n",
    "  C = np.zeros([N,N] ,float)\n",
    "  for i in range(N):\n",
    "    for j in range(N):\n",
    "      for k in range(N):  \n",
    "        C[i,j] += A[i,k]*B[k,j]\n",
    "  return C  \n",
    "\"\"\"\n",
    "res = timeit.timeit(stmt=TEST_CODE, number=1)\n",
    "\n",
    "print(res)"
   ]
  },
  {
   "cell_type": "code",
   "execution_count": null,
   "id": "030e7750-1977-416f-8714-96194e26df02",
   "metadata": {},
   "outputs": [],
   "source": [
    "import timeit\n",
    "import random\n",
    "import numpy as np\n",
    "\n",
    "N = 100\n",
    "\n",
    "A = np.random.rand(N,N)\n",
    "B = np.random.rand(N,N)\n",
    "\n",
    "def maxmult(A,B):\n",
    "  C = np.zeros([N,N] ,float)\n",
    "  for i in range(N):\n",
    "    for j in range(N):\n",
    "      for k in range(N):  \n",
    "        C[i,j] += A[i,k]*B[k,j]\n",
    "  return C \n",
    "\n",
    "res = timeit.timeit(lambda: maxmult(A,B), number=1)\n",
    "\n",
    "print(res)"
   ]
  },
  {
   "cell_type": "code",
   "execution_count": null,
   "id": "79d4f46a-09c0-48c5-a0db-c649fa012754",
   "metadata": {},
   "outputs": [],
   "source": [
    "\n"
   ]
  },
  {
   "cell_type": "code",
   "execution_count": null,
   "id": "a237783c-8b7e-422f-b0e8-dd3c6b5a5152",
   "metadata": {},
   "outputs": [],
   "source": []
  }
 ],
 "metadata": {
  "kernelspec": {
   "display_name": "Python 3 (ipykernel)",
   "language": "python",
   "name": "python3"
  },
  "language_info": {
   "codemirror_mode": {
    "name": "ipython",
    "version": 3
   },
   "file_extension": ".py",
   "mimetype": "text/x-python",
   "name": "python",
   "nbconvert_exporter": "python",
   "pygments_lexer": "ipython3",
   "version": "3.13.3"
  }
 },
 "nbformat": 4,
 "nbformat_minor": 5
}
